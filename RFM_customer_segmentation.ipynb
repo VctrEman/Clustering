{
  "nbformat": 4,
  "nbformat_minor": 0,
  "metadata": {
    "colab": {
      "name": "RFM_customer segmentation.ipynb",
      "provenance": [],
      "authorship_tag": "ABX9TyNkO8U30VSXmqyvEJxKQ9fk",
      "include_colab_link": true
    },
    "kernelspec": {
      "name": "python3",
      "display_name": "Python 3"
    },
    "language_info": {
      "name": "python"
    }
  },
  "cells": [
    {
      "cell_type": "markdown",
      "metadata": {
        "id": "view-in-github",
        "colab_type": "text"
      },
      "source": [
        "<a href=\"https://colab.research.google.com/github/VctrEman/Clustering/blob/main/RFM_customer_segmentation.ipynb\" target=\"_parent\"><img src=\"https://colab.research.google.com/assets/colab-badge.svg\" alt=\"Open In Colab\"/></a>"
      ]
    },
    {
      "cell_type": "markdown",
      "metadata": {
        "id": "uepV9UIjSi2d"
      },
      "source": [
        "#RFM\n",
        "https://stackoverflow.com/questions/65659914/convert-a-column-with-a-week-number-to-a-date\n",
        "df['date'] = df.apply(lambda x: date(x.year,1,1) + relativedelta(weeks=-int(x.week)), axis=1)"
      ]
    },
    {
      "cell_type": "code",
      "metadata": {
        "colab": {
          "base_uri": "https://localhost:8080/"
        },
        "id": "pjmp43gAU13n",
        "outputId": "8a1a7dd7-74ad-4ec9-abf0-a325c2119ec9"
      },
      "source": [
        "! pip install dataprep"
      ],
      "execution_count": null,
      "outputs": [
        {
          "output_type": "stream",
          "name": "stdout",
          "text": [
            "Collecting dataprep\n",
            "  Downloading dataprep-0.3.0-py3-none-any.whl (1.8 MB)\n",
            "\u001b[K     |████████████████████████████████| 1.8 MB 13.2 MB/s \n",
            "\u001b[?25hCollecting wordcloud<2.0,>=1.8\n",
            "  Downloading wordcloud-1.8.1-cp37-cp37m-manylinux1_x86_64.whl (366 kB)\n",
            "\u001b[K     |████████████████████████████████| 366 kB 69.5 MB/s \n",
            "\u001b[?25hCollecting python-Levenshtein<0.13.0,>=0.12.2\n",
            "  Downloading python-Levenshtein-0.12.2.tar.gz (50 kB)\n",
            "\u001b[K     |████████████████████████████████| 50 kB 5.3 MB/s \n",
            "\u001b[?25hRequirement already satisfied: tqdm<5.0,>=4.48 in /usr/local/lib/python3.7/dist-packages (from dataprep) (4.62.2)\n",
            "Requirement already satisfied: ipywidgets<8.0,>=7.5 in /usr/local/lib/python3.7/dist-packages (from dataprep) (7.6.5)\n",
            "Requirement already satisfied: numpy<2,>=1 in /usr/local/lib/python3.7/dist-packages (from dataprep) (1.19.5)\n",
            "Collecting regex<2021.0.0,>=2020.10.15\n",
            "  Downloading regex-2020.11.13-cp37-cp37m-manylinux2014_x86_64.whl (719 kB)\n",
            "\u001b[K     |████████████████████████████████| 719 kB 71.5 MB/s \n",
            "\u001b[?25hCollecting usaddress<0.6.0,>=0.5.10\n",
            "  Downloading usaddress-0.5.10-py2.py3-none-any.whl (63 kB)\n",
            "\u001b[K     |████████████████████████████████| 63 kB 2.0 MB/s \n",
            "\u001b[?25hRequirement already satisfied: jinja2<3.0,>=2.11 in /usr/local/lib/python3.7/dist-packages (from dataprep) (2.11.3)\n",
            "Requirement already satisfied: scipy<2,>=1 in /usr/local/lib/python3.7/dist-packages (from dataprep) (1.4.1)\n",
            "Collecting dask[array,dataframe,delayed]<3.0,>=2.25\n",
            "  Downloading dask-2.30.0-py3-none-any.whl (848 kB)\n",
            "\u001b[K     |████████████████████████████████| 848 kB 73.2 MB/s \n",
            "\u001b[?25hRequirement already satisfied: bottleneck<2.0,>=1.3 in /usr/local/lib/python3.7/dist-packages (from dataprep) (1.3.2)\n",
            "Collecting jsonpath-ng<2.0,>=1.5\n",
            "  Downloading jsonpath_ng-1.5.3-py3-none-any.whl (29 kB)\n",
            "Requirement already satisfied: pandas<2.0,>=1.1 in /usr/local/lib/python3.7/dist-packages (from dataprep) (1.1.5)\n",
            "Collecting metaphone<0.7,>=0.6\n",
            "  Downloading Metaphone-0.6.tar.gz (14 kB)\n",
            "Collecting aiohttp<4.0,>=3.6\n",
            "  Downloading aiohttp-3.7.4.post0-cp37-cp37m-manylinux2014_x86_64.whl (1.3 MB)\n",
            "\u001b[K     |████████████████████████████████| 1.3 MB 62.9 MB/s \n",
            "\u001b[?25hCollecting nltk<4.0,>=3.5\n",
            "  Downloading nltk-3.6.3-py3-none-any.whl (1.5 MB)\n",
            "\u001b[K     |████████████████████████████████| 1.5 MB 49.9 MB/s \n",
            "\u001b[?25hCollecting pydantic<2.0,>=1.6\n",
            "  Downloading pydantic-1.8.2-cp37-cp37m-manylinux2014_x86_64.whl (10.1 MB)\n",
            "\u001b[K     |████████████████████████████████| 10.1 MB 47.3 MB/s \n",
            "\u001b[?25hRequirement already satisfied: bokeh<3,>=2 in /usr/local/lib/python3.7/dist-packages (from dataprep) (2.3.3)\n",
            "Collecting async-timeout<4.0,>=3.0\n",
            "  Downloading async_timeout-3.0.1-py3-none-any.whl (8.2 kB)\n",
            "Requirement already satisfied: attrs>=17.3.0 in /usr/local/lib/python3.7/dist-packages (from aiohttp<4.0,>=3.6->dataprep) (21.2.0)\n",
            "Requirement already satisfied: typing-extensions>=3.6.5 in /usr/local/lib/python3.7/dist-packages (from aiohttp<4.0,>=3.6->dataprep) (3.7.4.3)\n",
            "Requirement already satisfied: chardet<5.0,>=2.0 in /usr/local/lib/python3.7/dist-packages (from aiohttp<4.0,>=3.6->dataprep) (3.0.4)\n",
            "Collecting yarl<2.0,>=1.0\n",
            "  Downloading yarl-1.6.3-cp37-cp37m-manylinux2014_x86_64.whl (294 kB)\n",
            "\u001b[K     |████████████████████████████████| 294 kB 71.0 MB/s \n",
            "\u001b[?25hCollecting multidict<7.0,>=4.5\n",
            "  Downloading multidict-5.1.0-cp37-cp37m-manylinux2014_x86_64.whl (142 kB)\n",
            "\u001b[K     |████████████████████████████████| 142 kB 74.6 MB/s \n",
            "\u001b[?25hRequirement already satisfied: python-dateutil>=2.1 in /usr/local/lib/python3.7/dist-packages (from bokeh<3,>=2->dataprep) (2.8.2)\n",
            "Requirement already satisfied: PyYAML>=3.10 in /usr/local/lib/python3.7/dist-packages (from bokeh<3,>=2->dataprep) (3.13)\n",
            "Requirement already satisfied: packaging>=16.8 in /usr/local/lib/python3.7/dist-packages (from bokeh<3,>=2->dataprep) (21.0)\n",
            "Requirement already satisfied: tornado>=5.1 in /usr/local/lib/python3.7/dist-packages (from bokeh<3,>=2->dataprep) (5.1.1)\n",
            "Requirement already satisfied: pillow>=7.1.0 in /usr/local/lib/python3.7/dist-packages (from bokeh<3,>=2->dataprep) (7.1.2)\n",
            "Requirement already satisfied: toolz>=0.8.2 in /usr/local/lib/python3.7/dist-packages (from dask[array,dataframe,delayed]<3.0,>=2.25->dataprep) (0.11.1)\n",
            "Requirement already satisfied: cloudpickle>=0.2.2 in /usr/local/lib/python3.7/dist-packages (from dask[array,dataframe,delayed]<3.0,>=2.25->dataprep) (1.3.0)\n",
            "Collecting partd>=0.3.10\n",
            "  Downloading partd-1.2.0-py3-none-any.whl (19 kB)\n",
            "Collecting fsspec>=0.6.0\n",
            "  Downloading fsspec-2021.9.0-py3-none-any.whl (123 kB)\n",
            "\u001b[K     |████████████████████████████████| 123 kB 63.1 MB/s \n",
            "\u001b[?25hRequirement already satisfied: ipykernel>=4.5.1 in /usr/local/lib/python3.7/dist-packages (from ipywidgets<8.0,>=7.5->dataprep) (4.10.1)\n",
            "Requirement already satisfied: widgetsnbextension~=3.5.0 in /usr/local/lib/python3.7/dist-packages (from ipywidgets<8.0,>=7.5->dataprep) (3.5.1)\n",
            "Requirement already satisfied: traitlets>=4.3.1 in /usr/local/lib/python3.7/dist-packages (from ipywidgets<8.0,>=7.5->dataprep) (5.1.0)\n",
            "Requirement already satisfied: jupyterlab-widgets>=1.0.0 in /usr/local/lib/python3.7/dist-packages (from ipywidgets<8.0,>=7.5->dataprep) (1.0.2)\n",
            "Requirement already satisfied: ipython>=4.0.0 in /usr/local/lib/python3.7/dist-packages (from ipywidgets<8.0,>=7.5->dataprep) (5.5.0)\n",
            "Requirement already satisfied: ipython-genutils~=0.2.0 in /usr/local/lib/python3.7/dist-packages (from ipywidgets<8.0,>=7.5->dataprep) (0.2.0)\n",
            "Requirement already satisfied: nbformat>=4.2.0 in /usr/local/lib/python3.7/dist-packages (from ipywidgets<8.0,>=7.5->dataprep) (5.1.3)\n",
            "Requirement already satisfied: jupyter-client in /usr/local/lib/python3.7/dist-packages (from ipykernel>=4.5.1->ipywidgets<8.0,>=7.5->dataprep) (5.3.5)\n",
            "Requirement already satisfied: decorator in /usr/local/lib/python3.7/dist-packages (from ipython>=4.0.0->ipywidgets<8.0,>=7.5->dataprep) (4.4.2)\n",
            "Requirement already satisfied: pexpect in /usr/local/lib/python3.7/dist-packages (from ipython>=4.0.0->ipywidgets<8.0,>=7.5->dataprep) (4.8.0)\n",
            "Requirement already satisfied: prompt-toolkit<2.0.0,>=1.0.4 in /usr/local/lib/python3.7/dist-packages (from ipython>=4.0.0->ipywidgets<8.0,>=7.5->dataprep) (1.0.18)\n",
            "Requirement already satisfied: simplegeneric>0.8 in /usr/local/lib/python3.7/dist-packages (from ipython>=4.0.0->ipywidgets<8.0,>=7.5->dataprep) (0.8.1)\n",
            "Requirement already satisfied: setuptools>=18.5 in /usr/local/lib/python3.7/dist-packages (from ipython>=4.0.0->ipywidgets<8.0,>=7.5->dataprep) (57.4.0)\n",
            "Requirement already satisfied: pygments in /usr/local/lib/python3.7/dist-packages (from ipython>=4.0.0->ipywidgets<8.0,>=7.5->dataprep) (2.6.1)\n",
            "Requirement already satisfied: pickleshare in /usr/local/lib/python3.7/dist-packages (from ipython>=4.0.0->ipywidgets<8.0,>=7.5->dataprep) (0.7.5)\n",
            "Requirement already satisfied: MarkupSafe>=0.23 in /usr/local/lib/python3.7/dist-packages (from jinja2<3.0,>=2.11->dataprep) (2.0.1)\n",
            "Requirement already satisfied: six in /usr/local/lib/python3.7/dist-packages (from jsonpath-ng<2.0,>=1.5->dataprep) (1.15.0)\n",
            "Collecting ply\n",
            "  Downloading ply-3.11-py2.py3-none-any.whl (49 kB)\n",
            "\u001b[K     |████████████████████████████████| 49 kB 5.2 MB/s \n",
            "\u001b[?25hRequirement already satisfied: jupyter-core in /usr/local/lib/python3.7/dist-packages (from nbformat>=4.2.0->ipywidgets<8.0,>=7.5->dataprep) (4.7.1)\n",
            "Requirement already satisfied: jsonschema!=2.5.0,>=2.4 in /usr/local/lib/python3.7/dist-packages (from nbformat>=4.2.0->ipywidgets<8.0,>=7.5->dataprep) (2.6.0)\n",
            "Requirement already satisfied: click in /usr/local/lib/python3.7/dist-packages (from nltk<4.0,>=3.5->dataprep) (7.1.2)\n",
            "Requirement already satisfied: joblib in /usr/local/lib/python3.7/dist-packages (from nltk<4.0,>=3.5->dataprep) (1.0.1)\n",
            "Requirement already satisfied: pyparsing>=2.0.2 in /usr/local/lib/python3.7/dist-packages (from packaging>=16.8->bokeh<3,>=2->dataprep) (2.4.7)\n",
            "Requirement already satisfied: pytz>=2017.2 in /usr/local/lib/python3.7/dist-packages (from pandas<2.0,>=1.1->dataprep) (2018.9)\n",
            "Collecting locket\n",
            "  Downloading locket-0.2.1-py2.py3-none-any.whl (4.1 kB)\n",
            "Requirement already satisfied: wcwidth in /usr/local/lib/python3.7/dist-packages (from prompt-toolkit<2.0.0,>=1.0.4->ipython>=4.0.0->ipywidgets<8.0,>=7.5->dataprep) (0.2.5)\n",
            "Requirement already satisfied: future>=0.14 in /usr/local/lib/python3.7/dist-packages (from usaddress<0.6.0,>=0.5.10->dataprep) (0.16.0)\n",
            "Collecting python-crfsuite>=0.7\n",
            "  Downloading python_crfsuite-0.9.7-cp37-cp37m-manylinux1_x86_64.whl (743 kB)\n",
            "\u001b[K     |████████████████████████████████| 743 kB 86.1 MB/s \n",
            "\u001b[?25hCollecting probableparsing\n",
            "  Downloading probableparsing-0.0.1-py2.py3-none-any.whl (3.1 kB)\n",
            "Requirement already satisfied: notebook>=4.4.1 in /usr/local/lib/python3.7/dist-packages (from widgetsnbextension~=3.5.0->ipywidgets<8.0,>=7.5->dataprep) (5.3.1)\n",
            "Requirement already satisfied: nbconvert in /usr/local/lib/python3.7/dist-packages (from notebook>=4.4.1->widgetsnbextension~=3.5.0->ipywidgets<8.0,>=7.5->dataprep) (5.6.1)\n",
            "Requirement already satisfied: terminado>=0.8.1 in /usr/local/lib/python3.7/dist-packages (from notebook>=4.4.1->widgetsnbextension~=3.5.0->ipywidgets<8.0,>=7.5->dataprep) (0.12.1)\n",
            "Requirement already satisfied: Send2Trash in /usr/local/lib/python3.7/dist-packages (from notebook>=4.4.1->widgetsnbextension~=3.5.0->ipywidgets<8.0,>=7.5->dataprep) (1.8.0)\n",
            "Requirement already satisfied: pyzmq>=13 in /usr/local/lib/python3.7/dist-packages (from jupyter-client->ipykernel>=4.5.1->ipywidgets<8.0,>=7.5->dataprep) (22.3.0)\n",
            "Requirement already satisfied: ptyprocess in /usr/local/lib/python3.7/dist-packages (from terminado>=0.8.1->notebook>=4.4.1->widgetsnbextension~=3.5.0->ipywidgets<8.0,>=7.5->dataprep) (0.7.0)\n",
            "Requirement already satisfied: matplotlib in /usr/local/lib/python3.7/dist-packages (from wordcloud<2.0,>=1.8->dataprep) (3.2.2)\n",
            "Requirement already satisfied: idna>=2.0 in /usr/local/lib/python3.7/dist-packages (from yarl<2.0,>=1.0->aiohttp<4.0,>=3.6->dataprep) (2.10)\n",
            "Requirement already satisfied: cycler>=0.10 in /usr/local/lib/python3.7/dist-packages (from matplotlib->wordcloud<2.0,>=1.8->dataprep) (0.10.0)\n",
            "Requirement already satisfied: kiwisolver>=1.0.1 in /usr/local/lib/python3.7/dist-packages (from matplotlib->wordcloud<2.0,>=1.8->dataprep) (1.3.2)\n",
            "Requirement already satisfied: testpath in /usr/local/lib/python3.7/dist-packages (from nbconvert->notebook>=4.4.1->widgetsnbextension~=3.5.0->ipywidgets<8.0,>=7.5->dataprep) (0.5.0)\n",
            "Requirement already satisfied: defusedxml in /usr/local/lib/python3.7/dist-packages (from nbconvert->notebook>=4.4.1->widgetsnbextension~=3.5.0->ipywidgets<8.0,>=7.5->dataprep) (0.7.1)\n",
            "Requirement already satisfied: entrypoints>=0.2.2 in /usr/local/lib/python3.7/dist-packages (from nbconvert->notebook>=4.4.1->widgetsnbextension~=3.5.0->ipywidgets<8.0,>=7.5->dataprep) (0.3)\n",
            "Requirement already satisfied: pandocfilters>=1.4.1 in /usr/local/lib/python3.7/dist-packages (from nbconvert->notebook>=4.4.1->widgetsnbextension~=3.5.0->ipywidgets<8.0,>=7.5->dataprep) (1.5.0)\n",
            "Requirement already satisfied: bleach in /usr/local/lib/python3.7/dist-packages (from nbconvert->notebook>=4.4.1->widgetsnbextension~=3.5.0->ipywidgets<8.0,>=7.5->dataprep) (4.1.0)\n",
            "Requirement already satisfied: mistune<2,>=0.8.1 in /usr/local/lib/python3.7/dist-packages (from nbconvert->notebook>=4.4.1->widgetsnbextension~=3.5.0->ipywidgets<8.0,>=7.5->dataprep) (0.8.4)\n",
            "Requirement already satisfied: webencodings in /usr/local/lib/python3.7/dist-packages (from bleach->nbconvert->notebook>=4.4.1->widgetsnbextension~=3.5.0->ipywidgets<8.0,>=7.5->dataprep) (0.5.1)\n",
            "Building wheels for collected packages: metaphone, python-Levenshtein\n",
            "  Building wheel for metaphone (setup.py) ... \u001b[?25l\u001b[?25hdone\n",
            "  Created wheel for metaphone: filename=Metaphone-0.6-py3-none-any.whl size=13919 sha256=f31cbd13f6efa063a64ddf3076b3c535bd41ad773877c9e8869f4908b8223a78\n",
            "  Stored in directory: /root/.cache/pip/wheels/1d/a8/cb/6f8902aa5457bd71344e00665c230e9c45255b3f57f2194a0f\n",
            "  Building wheel for python-Levenshtein (setup.py) ... \u001b[?25l\u001b[?25hdone\n",
            "  Created wheel for python-Levenshtein: filename=python_Levenshtein-0.12.2-cp37-cp37m-linux_x86_64.whl size=149859 sha256=ea8842bd840b439a0aaf15aabf190d917fc7c2eac8ed52b0a1ced8843e55ddc9\n",
            "  Stored in directory: /root/.cache/pip/wheels/05/5f/ca/7c4367734892581bb5ff896f15027a932c551080b2abd3e00d\n",
            "Successfully built metaphone python-Levenshtein\n",
            "Installing collected packages: multidict, locket, yarl, regex, python-crfsuite, probableparsing, ply, partd, fsspec, dask, async-timeout, wordcloud, usaddress, python-Levenshtein, pydantic, nltk, metaphone, jsonpath-ng, aiohttp, dataprep\n",
            "  Attempting uninstall: regex\n",
            "    Found existing installation: regex 2019.12.20\n",
            "    Uninstalling regex-2019.12.20:\n",
            "      Successfully uninstalled regex-2019.12.20\n",
            "  Attempting uninstall: dask\n",
            "    Found existing installation: dask 2.12.0\n",
            "    Uninstalling dask-2.12.0:\n",
            "      Successfully uninstalled dask-2.12.0\n",
            "  Attempting uninstall: wordcloud\n",
            "    Found existing installation: wordcloud 1.5.0\n",
            "    Uninstalling wordcloud-1.5.0:\n",
            "      Successfully uninstalled wordcloud-1.5.0\n",
            "  Attempting uninstall: nltk\n",
            "    Found existing installation: nltk 3.2.5\n",
            "    Uninstalling nltk-3.2.5:\n",
            "      Successfully uninstalled nltk-3.2.5\n",
            "Successfully installed aiohttp-3.7.4.post0 async-timeout-3.0.1 dask-2.30.0 dataprep-0.3.0 fsspec-2021.9.0 jsonpath-ng-1.5.3 locket-0.2.1 metaphone-0.6 multidict-5.1.0 nltk-3.6.3 partd-1.2.0 ply-3.11 probableparsing-0.0.1 pydantic-1.8.2 python-Levenshtein-0.12.2 python-crfsuite-0.9.7 regex-2020.11.13 usaddress-0.5.10 wordcloud-1.8.1 yarl-1.6.3\n"
          ]
        }
      ]
    },
    {
      "cell_type": "markdown",
      "metadata": {
        "id": "lPIt94O_U2vt"
      },
      "source": [
        "#Transformation"
      ]
    },
    {
      "cell_type": "code",
      "metadata": {
        "colab": {
          "base_uri": "https://localhost:8080/"
        },
        "id": "SG2J_7KwUDaj",
        "outputId": "969f4f46-009f-407f-fe5b-0cbefa8d84f3"
      },
      "source": [
        "! wget 'https://raw.githubusercontent.com/daniel-isidro/customer_segmentation/main/data/sales_asia.csv'"
      ],
      "execution_count": null,
      "outputs": [
        {
          "output_type": "stream",
          "name": "stdout",
          "text": [
            "--2021-09-26 11:30:24--  https://raw.githubusercontent.com/daniel-isidro/customer_segmentation/main/data/sales_asia.csv\n",
            "Resolving raw.githubusercontent.com (raw.githubusercontent.com)... 185.199.108.133, 185.199.111.133, 185.199.110.133, ...\n",
            "Connecting to raw.githubusercontent.com (raw.githubusercontent.com)|185.199.108.133|:443... connected.\n",
            "HTTP request sent, awaiting response... 200 OK\n",
            "Length: 6965878 (6.6M) [text/plain]\n",
            "Saving to: ‘sales_asia.csv’\n",
            "\n",
            "sales_asia.csv      100%[===================>]   6.64M  --.-KB/s    in 0.04s   \n",
            "\n",
            "2021-09-26 11:30:24 (178 MB/s) - ‘sales_asia.csv’ saved [6965878/6965878]\n",
            "\n"
          ]
        }
      ]
    },
    {
      "cell_type": "code",
      "metadata": {
        "id": "OuG-i1l4bu-v"
      },
      "source": [
        "import pandas as pd\n",
        "from datetime import date, timedelta\n",
        "from dateutil.relativedelta import relativedelta\n",
        "import matplotlib.pyplot as plt\n",
        "plt.style.use(\"seaborn\")\n",
        "plt.rcParams[\"figure.figsize\"] = (20, 5)"
      ],
      "execution_count": null,
      "outputs": []
    },
    {
      "cell_type": "code",
      "metadata": {
        "colab": {
          "base_uri": "https://localhost:8080/",
          "height": 206
        },
        "id": "-G_qYONrENJX",
        "outputId": "3ab84eb7-220c-4969-c461-fc8ff5444a5c"
      },
      "source": [
        "df = pd.read_csv('sales_asia.csv', sep = ';', dtype={'week.year': str},)\n",
        "df.revenue = df.revenue.str.replace(\",\", \".\").astype(float)\n",
        "df.rename({'revenue': 'monetary','id':'customer_id'}, axis=1, inplace=True)\n",
        "df.head()"
      ],
      "execution_count": null,
      "outputs": [
        {
          "output_type": "execute_result",
          "data": {
            "text/html": [
              "<div>\n",
              "<style scoped>\n",
              "    .dataframe tbody tr th:only-of-type {\n",
              "        vertical-align: middle;\n",
              "    }\n",
              "\n",
              "    .dataframe tbody tr th {\n",
              "        vertical-align: top;\n",
              "    }\n",
              "\n",
              "    .dataframe thead th {\n",
              "        text-align: right;\n",
              "    }\n",
              "</style>\n",
              "<table border=\"1\" class=\"dataframe\">\n",
              "  <thead>\n",
              "    <tr style=\"text-align: right;\">\n",
              "      <th></th>\n",
              "      <th>country</th>\n",
              "      <th>customer_id</th>\n",
              "      <th>week.year</th>\n",
              "      <th>monetary</th>\n",
              "      <th>units</th>\n",
              "    </tr>\n",
              "  </thead>\n",
              "  <tbody>\n",
              "    <tr>\n",
              "      <th>0</th>\n",
              "      <td>KR</td>\n",
              "      <td>702234</td>\n",
              "      <td>03.2019</td>\n",
              "      <td>808.08</td>\n",
              "      <td>1</td>\n",
              "    </tr>\n",
              "    <tr>\n",
              "      <th>1</th>\n",
              "      <td>KR</td>\n",
              "      <td>702234</td>\n",
              "      <td>06.2019</td>\n",
              "      <td>1606.80</td>\n",
              "      <td>2</td>\n",
              "    </tr>\n",
              "    <tr>\n",
              "      <th>2</th>\n",
              "      <td>KR</td>\n",
              "      <td>3618438</td>\n",
              "      <td>08.2019</td>\n",
              "      <td>803.40</td>\n",
              "      <td>1</td>\n",
              "    </tr>\n",
              "    <tr>\n",
              "      <th>3</th>\n",
              "      <td>KR</td>\n",
              "      <td>3618438</td>\n",
              "      <td>09.2019</td>\n",
              "      <td>803.40</td>\n",
              "      <td>1</td>\n",
              "    </tr>\n",
              "    <tr>\n",
              "      <th>4</th>\n",
              "      <td>KR</td>\n",
              "      <td>3618438</td>\n",
              "      <td>09.2019</td>\n",
              "      <td>803.40</td>\n",
              "      <td>1</td>\n",
              "    </tr>\n",
              "  </tbody>\n",
              "</table>\n",
              "</div>"
            ],
            "text/plain": [
              "  country  customer_id week.year  monetary  units\n",
              "0      KR       702234   03.2019    808.08      1\n",
              "1      KR       702234   06.2019   1606.80      2\n",
              "2      KR      3618438   08.2019    803.40      1\n",
              "3      KR      3618438   09.2019    803.40      1\n",
              "4      KR      3618438   09.2019    803.40      1"
            ]
          },
          "metadata": {},
          "execution_count": 4
        }
      ]
    },
    {
      "cell_type": "code",
      "metadata": {
        "colab": {
          "base_uri": "https://localhost:8080/",
          "height": 225
        },
        "id": "C_p1JMV_UGlL",
        "outputId": "bf257bb8-7f6a-4bcb-da42-d567df3d5e2f"
      },
      "source": [
        "# Splitting 'week.year' column on '.' and creating 'week' and 'year' columns\n",
        "df[['week', 'year']] = df['week.year'].astype(str).str.rsplit(\".\", expand=True)\n",
        "df['date'] = pd.to_datetime(df['year'].map(str) + df['week'].map(str) + '-1', format='%Y%W-%w')\n",
        "df = df.drop(columns=['week.year','year','week'],axis = 1)\n",
        "\n",
        "print(df['date'].min(),df['date'].max())\n",
        "df.tail()"
      ],
      "execution_count": null,
      "outputs": [
        {
          "output_type": "stream",
          "name": "stdout",
          "text": [
            "2019-01-07 00:00:00 2020-11-30 00:00:00\n"
          ]
        },
        {
          "output_type": "execute_result",
          "data": {
            "text/html": [
              "<div>\n",
              "<style scoped>\n",
              "    .dataframe tbody tr th:only-of-type {\n",
              "        vertical-align: middle;\n",
              "    }\n",
              "\n",
              "    .dataframe tbody tr th {\n",
              "        vertical-align: top;\n",
              "    }\n",
              "\n",
              "    .dataframe thead th {\n",
              "        text-align: right;\n",
              "    }\n",
              "</style>\n",
              "<table border=\"1\" class=\"dataframe\">\n",
              "  <thead>\n",
              "    <tr style=\"text-align: right;\">\n",
              "      <th></th>\n",
              "      <th>country</th>\n",
              "      <th>customer_id</th>\n",
              "      <th>monetary</th>\n",
              "      <th>units</th>\n",
              "      <th>date</th>\n",
              "    </tr>\n",
              "  </thead>\n",
              "  <tbody>\n",
              "    <tr>\n",
              "      <th>235569</th>\n",
              "      <td>CN</td>\n",
              "      <td>2452476</td>\n",
              "      <td>41160.0</td>\n",
              "      <td>200</td>\n",
              "      <td>2020-07-06</td>\n",
              "    </tr>\n",
              "    <tr>\n",
              "      <th>235570</th>\n",
              "      <td>CN</td>\n",
              "      <td>2452476</td>\n",
              "      <td>50856.0</td>\n",
              "      <td>400</td>\n",
              "      <td>2020-07-06</td>\n",
              "    </tr>\n",
              "    <tr>\n",
              "      <th>235571</th>\n",
              "      <td>CN</td>\n",
              "      <td>2452476</td>\n",
              "      <td>79920.0</td>\n",
              "      <td>1200</td>\n",
              "      <td>2020-07-06</td>\n",
              "    </tr>\n",
              "    <tr>\n",
              "      <th>235572</th>\n",
              "      <td>CN</td>\n",
              "      <td>4553904</td>\n",
              "      <td>4788.0</td>\n",
              "      <td>100</td>\n",
              "      <td>2020-07-06</td>\n",
              "    </tr>\n",
              "    <tr>\n",
              "      <th>235573</th>\n",
              "      <td>CN</td>\n",
              "      <td>4553904</td>\n",
              "      <td>4188.0</td>\n",
              "      <td>100</td>\n",
              "      <td>2020-07-06</td>\n",
              "    </tr>\n",
              "  </tbody>\n",
              "</table>\n",
              "</div>"
            ],
            "text/plain": [
              "       country  customer_id  monetary  units       date\n",
              "235569      CN      2452476   41160.0    200 2020-07-06\n",
              "235570      CN      2452476   50856.0    400 2020-07-06\n",
              "235571      CN      2452476   79920.0   1200 2020-07-06\n",
              "235572      CN      4553904    4788.0    100 2020-07-06\n",
              "235573      CN      4553904    4188.0    100 2020-07-06"
            ]
          },
          "metadata": {},
          "execution_count": 5
        }
      ]
    },
    {
      "cell_type": "code",
      "metadata": {
        "id": "MqGVZrzGuH4j",
        "colab": {
          "base_uri": "https://localhost:8080/"
        },
        "outputId": "72fa0f63-8505-4da4-d563-33f31ae04dc5"
      },
      "source": [
        "df2 = df.copy()\n",
        "df2.set_index(\"date\", inplace=False)\n",
        "df2.info()"
      ],
      "execution_count": null,
      "outputs": [
        {
          "output_type": "stream",
          "name": "stdout",
          "text": [
            "<class 'pandas.core.frame.DataFrame'>\n",
            "RangeIndex: 235574 entries, 0 to 235573\n",
            "Data columns (total 5 columns):\n",
            " #   Column       Non-Null Count   Dtype         \n",
            "---  ------       --------------   -----         \n",
            " 0   country      235574 non-null  object        \n",
            " 1   customer_id  235574 non-null  int64         \n",
            " 2   monetary     235574 non-null  float64       \n",
            " 3   units        235574 non-null  int64         \n",
            " 4   date         235574 non-null  datetime64[ns]\n",
            "dtypes: datetime64[ns](1), float64(1), int64(2), object(1)\n",
            "memory usage: 9.0+ MB\n"
          ]
        }
      ]
    },
    {
      "cell_type": "code",
      "metadata": {
        "colab": {
          "base_uri": "https://localhost:8080/",
          "height": 206
        },
        "id": "64AF5nYb_4ti",
        "outputId": "49ecbeea-7c37-4764-c230-925ad3a5bf7b"
      },
      "source": [
        "df2.head()"
      ],
      "execution_count": null,
      "outputs": [
        {
          "output_type": "execute_result",
          "data": {
            "text/html": [
              "<div>\n",
              "<style scoped>\n",
              "    .dataframe tbody tr th:only-of-type {\n",
              "        vertical-align: middle;\n",
              "    }\n",
              "\n",
              "    .dataframe tbody tr th {\n",
              "        vertical-align: top;\n",
              "    }\n",
              "\n",
              "    .dataframe thead th {\n",
              "        text-align: right;\n",
              "    }\n",
              "</style>\n",
              "<table border=\"1\" class=\"dataframe\">\n",
              "  <thead>\n",
              "    <tr style=\"text-align: right;\">\n",
              "      <th></th>\n",
              "      <th>country</th>\n",
              "      <th>customer_id</th>\n",
              "      <th>monetary</th>\n",
              "      <th>units</th>\n",
              "      <th>date</th>\n",
              "    </tr>\n",
              "  </thead>\n",
              "  <tbody>\n",
              "    <tr>\n",
              "      <th>0</th>\n",
              "      <td>KR</td>\n",
              "      <td>702234</td>\n",
              "      <td>808.08</td>\n",
              "      <td>1</td>\n",
              "      <td>2019-01-21</td>\n",
              "    </tr>\n",
              "    <tr>\n",
              "      <th>1</th>\n",
              "      <td>KR</td>\n",
              "      <td>702234</td>\n",
              "      <td>1606.80</td>\n",
              "      <td>2</td>\n",
              "      <td>2019-02-11</td>\n",
              "    </tr>\n",
              "    <tr>\n",
              "      <th>2</th>\n",
              "      <td>KR</td>\n",
              "      <td>3618438</td>\n",
              "      <td>803.40</td>\n",
              "      <td>1</td>\n",
              "      <td>2019-02-25</td>\n",
              "    </tr>\n",
              "    <tr>\n",
              "      <th>3</th>\n",
              "      <td>KR</td>\n",
              "      <td>3618438</td>\n",
              "      <td>803.40</td>\n",
              "      <td>1</td>\n",
              "      <td>2019-03-04</td>\n",
              "    </tr>\n",
              "    <tr>\n",
              "      <th>4</th>\n",
              "      <td>KR</td>\n",
              "      <td>3618438</td>\n",
              "      <td>803.40</td>\n",
              "      <td>1</td>\n",
              "      <td>2019-03-04</td>\n",
              "    </tr>\n",
              "  </tbody>\n",
              "</table>\n",
              "</div>"
            ],
            "text/plain": [
              "  country  customer_id  monetary  units       date\n",
              "0      KR       702234    808.08      1 2019-01-21\n",
              "1      KR       702234   1606.80      2 2019-02-11\n",
              "2      KR      3618438    803.40      1 2019-02-25\n",
              "3      KR      3618438    803.40      1 2019-03-04\n",
              "4      KR      3618438    803.40      1 2019-03-04"
            ]
          },
          "metadata": {},
          "execution_count": 7
        }
      ]
    },
    {
      "cell_type": "code",
      "metadata": {
        "colab": {
          "base_uri": "https://localhost:8080/"
        },
        "id": "dnlAQf9bP7h6",
        "outputId": "c2bf3a2e-c4a6-40ac-9609-e6b2cccb18e5"
      },
      "source": [
        "from dataprep.clean import clean_country\n",
        "clean_country(df, \"country\")['country_clean'].unique()"
      ],
      "execution_count": null,
      "outputs": [
        {
          "output_type": "stream",
          "name": "stderr",
          "text": [
            "                                                                                                "
          ]
        },
        {
          "output_type": "stream",
          "name": "stdout",
          "text": [
            "Country Cleaning Report:\n",
            "\t235574 values cleaned (100.0%)\n",
            "Result contains 235574 (100.0%) values in the correct format and 0 null values (0.0%)\n"
          ]
        },
        {
          "output_type": "stream",
          "name": "stderr",
          "text": [
            "\r"
          ]
        },
        {
          "output_type": "execute_result",
          "data": {
            "text/plain": [
              "array(['South Korea', 'Pakistan', 'Myanmar', 'Vietnam', 'India',\n",
              "       'Saudi Arabia', 'Philippines', 'Afghanistan', 'China',\n",
              "       'Bangladesh', 'Indonesia', 'Thailand', 'Iraq', 'Malaysia', 'Japan',\n",
              "       'Iran', 'Turkey', 'Uzbekistan'], dtype=object)"
            ]
          },
          "metadata": {},
          "execution_count": 8
        }
      ]
    },
    {
      "cell_type": "code",
      "metadata": {
        "colab": {
          "base_uri": "https://localhost:8080/",
          "height": 371
        },
        "id": "Db4a3x2pVFJf",
        "outputId": "67920057-bd17-4661-b750-6fbdaf95a6a8"
      },
      "source": [
        "plt.style.use('ggplot')\n",
        "plt.title('Units sold per week')\n",
        "plt.ylabel('units')\n",
        "plt.xlabel('date');\n",
        "df2['units'].plot(figsize=(20,5), c='dodgerblue')"
      ],
      "execution_count": null,
      "outputs": [
        {
          "output_type": "execute_result",
          "data": {
            "text/plain": [
              "<matplotlib.axes._subplots.AxesSubplot at 0x7f0257a691d0>"
            ]
          },
          "metadata": {},
          "execution_count": 9
        },
        {
          "output_type": "display_data",
          "data": {
            "image/png": "[encoded data removed]",
            "text/plain": [
              "<Figure size 1440x360 with 1 Axes>"
            ]
          },
          "metadata": {}
        }
      ]
    },
    {
      "cell_type": "code",
      "metadata": {
        "id": "rFGTORbQVk5V"
      },
      "source": [
        "df2.set_index(\"date\", inplace=True)\n",
        "df2 = df2.to_period(\"M\").copy()"
      ],
      "execution_count": null,
      "outputs": []
    },
    {
      "cell_type": "code",
      "metadata": {
        "colab": {
          "base_uri": "https://localhost:8080/",
          "height": 688
        },
        "id": "W8eZG8p193x3",
        "outputId": "be15968c-71ee-4ec3-cdb2-a7b6d97046bd"
      },
      "source": [
        "# agg sum monetary and units by date\n",
        "df2.groupby(df2.index)[['units']].agg(sum).plot(figsize=(20,5), c= '#625D5D');\n",
        "df2.groupby(df2.index)[['monetary',]].agg(sum).plot(figsize=(20,5), c='dodgerblue');"
      ],
      "execution_count": null,
      "outputs": [
        {
          "output_type": "display_data",
          "data": {
            "image/png": "[encoded data removed]",
            "text/plain": [
              "<Figure size 1440x360 with 1 Axes>"
            ]
          },
          "metadata": {}
        },
        {
          "output_type": "display_data",
          "data": {
            "image/png": "[encoded data removed]",
            "text/plain": [
              "<Figure size 1440x360 with 1 Axes>"
            ]
          },
          "metadata": {}
        }
      ]
    },
    {
      "cell_type": "code",
      "metadata": {
        "colab": {
          "base_uri": "https://localhost:8080/",
          "height": 206
        },
        "id": "lk_MmuMxGEJ-",
        "outputId": "f13eb8e3-3c9a-43a0-e780-e47aa93943a3"
      },
      "source": [
        "df3 = df.copy()\n",
        "df3.head()"
      ],
      "execution_count": null,
      "outputs": [
        {
          "output_type": "execute_result",
          "data": {
            "text/html": [
              "<div>\n",
              "<style scoped>\n",
              "    .dataframe tbody tr th:only-of-type {\n",
              "        vertical-align: middle;\n",
              "    }\n",
              "\n",
              "    .dataframe tbody tr th {\n",
              "        vertical-align: top;\n",
              "    }\n",
              "\n",
              "    .dataframe thead th {\n",
              "        text-align: right;\n",
              "    }\n",
              "</style>\n",
              "<table border=\"1\" class=\"dataframe\">\n",
              "  <thead>\n",
              "    <tr style=\"text-align: right;\">\n",
              "      <th></th>\n",
              "      <th>country</th>\n",
              "      <th>customer_id</th>\n",
              "      <th>monetary</th>\n",
              "      <th>units</th>\n",
              "      <th>date</th>\n",
              "    </tr>\n",
              "  </thead>\n",
              "  <tbody>\n",
              "    <tr>\n",
              "      <th>0</th>\n",
              "      <td>KR</td>\n",
              "      <td>702234</td>\n",
              "      <td>808.08</td>\n",
              "      <td>1</td>\n",
              "      <td>2019-01-21</td>\n",
              "    </tr>\n",
              "    <tr>\n",
              "      <th>1</th>\n",
              "      <td>KR</td>\n",
              "      <td>702234</td>\n",
              "      <td>1606.80</td>\n",
              "      <td>2</td>\n",
              "      <td>2019-02-11</td>\n",
              "    </tr>\n",
              "    <tr>\n",
              "      <th>2</th>\n",
              "      <td>KR</td>\n",
              "      <td>3618438</td>\n",
              "      <td>803.40</td>\n",
              "      <td>1</td>\n",
              "      <td>2019-02-25</td>\n",
              "    </tr>\n",
              "    <tr>\n",
              "      <th>3</th>\n",
              "      <td>KR</td>\n",
              "      <td>3618438</td>\n",
              "      <td>803.40</td>\n",
              "      <td>1</td>\n",
              "      <td>2019-03-04</td>\n",
              "    </tr>\n",
              "    <tr>\n",
              "      <th>4</th>\n",
              "      <td>KR</td>\n",
              "      <td>3618438</td>\n",
              "      <td>803.40</td>\n",
              "      <td>1</td>\n",
              "      <td>2019-03-04</td>\n",
              "    </tr>\n",
              "  </tbody>\n",
              "</table>\n",
              "</div>"
            ],
            "text/plain": [
              "  country  customer_id  monetary  units       date\n",
              "0      KR       702234    808.08      1 2019-01-21\n",
              "1      KR       702234   1606.80      2 2019-02-11\n",
              "2      KR      3618438    803.40      1 2019-02-25\n",
              "3      KR      3618438    803.40      1 2019-03-04\n",
              "4      KR      3618438    803.40      1 2019-03-04"
            ]
          },
          "metadata": {},
          "execution_count": 12
        }
      ]
    },
    {
      "cell_type": "markdown",
      "metadata": {
        "id": "zCScymQhIJf5"
      },
      "source": [
        "#Modelagem RFM"
      ]
    },
    {
      "cell_type": "code",
      "metadata": {
        "colab": {
          "base_uri": "https://localhost:8080/",
          "height": 206
        },
        "id": "ytFxwmPLA_xo",
        "outputId": "2a314030-68dc-46cd-a67c-12b8df47df45"
      },
      "source": [
        "#new unique identifier for customers\n",
        "period = 365\n",
        "date_N_days_ago = df3['date'].max() - timedelta(days=period)\n",
        "\n",
        "# We remove the rows with dates older than 365 days ago\n",
        "df3 = df3.loc[df3['date']> date_N_days_ago]\n",
        "\n",
        "df3['id+'] = df3['country'].map(str) + df3['customer_id'].map(str)\n",
        "df3.head()"
      ],
      "execution_count": null,
      "outputs": [
        {
          "output_type": "execute_result",
          "data": {
            "text/html": [
              "<div>\n",
              "<style scoped>\n",
              "    .dataframe tbody tr th:only-of-type {\n",
              "        vertical-align: middle;\n",
              "    }\n",
              "\n",
              "    .dataframe tbody tr th {\n",
              "        vertical-align: top;\n",
              "    }\n",
              "\n",
              "    .dataframe thead th {\n",
              "        text-align: right;\n",
              "    }\n",
              "</style>\n",
              "<table border=\"1\" class=\"dataframe\">\n",
              "  <thead>\n",
              "    <tr style=\"text-align: right;\">\n",
              "      <th></th>\n",
              "      <th>country</th>\n",
              "      <th>customer_id</th>\n",
              "      <th>monetary</th>\n",
              "      <th>units</th>\n",
              "      <th>date</th>\n",
              "      <th>id+</th>\n",
              "      <th>recency</th>\n",
              "      <th>days_since_purchase</th>\n",
              "    </tr>\n",
              "  </thead>\n",
              "  <tbody>\n",
              "    <tr>\n",
              "      <th>38</th>\n",
              "      <td>KR</td>\n",
              "      <td>4375152</td>\n",
              "      <td>773.58</td>\n",
              "      <td>1</td>\n",
              "      <td>2019-12-16</td>\n",
              "      <td>KR4375152</td>\n",
              "      <td>351 days</td>\n",
              "      <td>351</td>\n",
              "    </tr>\n",
              "    <tr>\n",
              "      <th>75</th>\n",
              "      <td>KR</td>\n",
              "      <td>705462</td>\n",
              "      <td>337.26</td>\n",
              "      <td>1</td>\n",
              "      <td>2019-12-09</td>\n",
              "      <td>KR705462</td>\n",
              "      <td>358 days</td>\n",
              "      <td>358</td>\n",
              "    </tr>\n",
              "    <tr>\n",
              "      <th>76</th>\n",
              "      <td>KR</td>\n",
              "      <td>705462</td>\n",
              "      <td>337.26</td>\n",
              "      <td>1</td>\n",
              "      <td>2019-12-23</td>\n",
              "      <td>KR705462</td>\n",
              "      <td>344 days</td>\n",
              "      <td>344</td>\n",
              "    </tr>\n",
              "    <tr>\n",
              "      <th>77</th>\n",
              "      <td>KR</td>\n",
              "      <td>705462</td>\n",
              "      <td>421.56</td>\n",
              "      <td>2</td>\n",
              "      <td>2019-12-16</td>\n",
              "      <td>KR705462</td>\n",
              "      <td>351 days</td>\n",
              "      <td>351</td>\n",
              "    </tr>\n",
              "    <tr>\n",
              "      <th>78</th>\n",
              "      <td>KR</td>\n",
              "      <td>706854</td>\n",
              "      <td>391.50</td>\n",
              "      <td>1</td>\n",
              "      <td>2019-12-09</td>\n",
              "      <td>KR706854</td>\n",
              "      <td>358 days</td>\n",
              "      <td>358</td>\n",
              "    </tr>\n",
              "  </tbody>\n",
              "</table>\n",
              "</div>"
            ],
            "text/plain": [
              "   country  customer_id  monetary  ...        id+  recency days_since_purchase\n",
              "38      KR      4375152    773.58  ...  KR4375152 351 days                 351\n",
              "75      KR       705462    337.26  ...   KR705462 358 days                 358\n",
              "76      KR       705462    337.26  ...   KR705462 344 days                 344\n",
              "77      KR       705462    421.56  ...   KR705462 351 days                 351\n",
              "78      KR       706854    391.50  ...   KR706854 358 days                 358\n",
              "\n",
              "[5 rows x 8 columns]"
            ]
          },
          "metadata": {},
          "execution_count": 38
        }
      ]
    },
    {
      "cell_type": "code",
      "metadata": {
        "id": "_rrD_l7-Iwpd"
      },
      "source": [
        "import numpy as np\n",
        "NOW = df3['date'].max() + timedelta(days=1)"
      ],
      "execution_count": null,
      "outputs": []
    },
    {
      "cell_type": "code",
      "metadata": {
        "colab": {
          "base_uri": "https://localhost:8080/",
          "height": 206
        },
        "id": "2ZYu5Wu_GGa7",
        "outputId": "cff85e10-3051-4ef8-d5b5-e83a197cbe88"
      },
      "source": [
        "df3['days_since_purchase'] = df3['date'].apply(lambda x:(NOW - x).days) \n",
        "df3.tail()"
      ],
      "execution_count": null,
      "outputs": [
        {
          "output_type": "execute_result",
          "data": {
            "text/html": [
              "<div>\n",
              "<style scoped>\n",
              "    .dataframe tbody tr th:only-of-type {\n",
              "        vertical-align: middle;\n",
              "    }\n",
              "\n",
              "    .dataframe tbody tr th {\n",
              "        vertical-align: top;\n",
              "    }\n",
              "\n",
              "    .dataframe thead th {\n",
              "        text-align: right;\n",
              "    }\n",
              "</style>\n",
              "<table border=\"1\" class=\"dataframe\">\n",
              "  <thead>\n",
              "    <tr style=\"text-align: right;\">\n",
              "      <th></th>\n",
              "      <th>country</th>\n",
              "      <th>customer_id</th>\n",
              "      <th>monetary</th>\n",
              "      <th>units</th>\n",
              "      <th>date</th>\n",
              "      <th>id+</th>\n",
              "      <th>recency</th>\n",
              "      <th>days_since_purchase</th>\n",
              "    </tr>\n",
              "  </thead>\n",
              "  <tbody>\n",
              "    <tr>\n",
              "      <th>235569</th>\n",
              "      <td>CN</td>\n",
              "      <td>2452476</td>\n",
              "      <td>41160.0</td>\n",
              "      <td>200</td>\n",
              "      <td>2020-07-06</td>\n",
              "      <td>CN2452476</td>\n",
              "      <td>148 days</td>\n",
              "      <td>148</td>\n",
              "    </tr>\n",
              "    <tr>\n",
              "      <th>235570</th>\n",
              "      <td>CN</td>\n",
              "      <td>2452476</td>\n",
              "      <td>50856.0</td>\n",
              "      <td>400</td>\n",
              "      <td>2020-07-06</td>\n",
              "      <td>CN2452476</td>\n",
              "      <td>148 days</td>\n",
              "      <td>148</td>\n",
              "    </tr>\n",
              "    <tr>\n",
              "      <th>235571</th>\n",
              "      <td>CN</td>\n",
              "      <td>2452476</td>\n",
              "      <td>79920.0</td>\n",
              "      <td>1200</td>\n",
              "      <td>2020-07-06</td>\n",
              "      <td>CN2452476</td>\n",
              "      <td>148 days</td>\n",
              "      <td>148</td>\n",
              "    </tr>\n",
              "    <tr>\n",
              "      <th>235572</th>\n",
              "      <td>CN</td>\n",
              "      <td>4553904</td>\n",
              "      <td>4788.0</td>\n",
              "      <td>100</td>\n",
              "      <td>2020-07-06</td>\n",
              "      <td>CN4553904</td>\n",
              "      <td>148 days</td>\n",
              "      <td>148</td>\n",
              "    </tr>\n",
              "    <tr>\n",
              "      <th>235573</th>\n",
              "      <td>CN</td>\n",
              "      <td>4553904</td>\n",
              "      <td>4188.0</td>\n",
              "      <td>100</td>\n",
              "      <td>2020-07-06</td>\n",
              "      <td>CN4553904</td>\n",
              "      <td>148 days</td>\n",
              "      <td>148</td>\n",
              "    </tr>\n",
              "  </tbody>\n",
              "</table>\n",
              "</div>"
            ],
            "text/plain": [
              "       country  customer_id  monetary  ...        id+  recency days_since_purchase\n",
              "235569      CN      2452476   41160.0  ...  CN2452476 148 days                 148\n",
              "235570      CN      2452476   50856.0  ...  CN2452476 148 days                 148\n",
              "235571      CN      2452476   79920.0  ...  CN2452476 148 days                 148\n",
              "235572      CN      4553904    4788.0  ...  CN4553904 148 days                 148\n",
              "235573      CN      4553904    4188.0  ...  CN4553904 148 days                 148\n",
              "\n",
              "[5 rows x 8 columns]"
            ]
          },
          "metadata": {},
          "execution_count": 41
        }
      ]
    },
    {
      "cell_type": "code",
      "metadata": {
        "colab": {
          "base_uri": "https://localhost:8080/",
          "height": 206
        },
        "id": "tVRIkSyQI297",
        "outputId": "cc96289a-0559-486c-b726-90edd5e815b5"
      },
      "source": [
        "df3[df3['id+']=='KR706854']"
      ],
      "execution_count": null,
      "outputs": [
        {
          "output_type": "execute_result",
          "data": {
            "text/html": [
              "<div>\n",
              "<style scoped>\n",
              "    .dataframe tbody tr th:only-of-type {\n",
              "        vertical-align: middle;\n",
              "    }\n",
              "\n",
              "    .dataframe tbody tr th {\n",
              "        vertical-align: top;\n",
              "    }\n",
              "\n",
              "    .dataframe thead th {\n",
              "        text-align: right;\n",
              "    }\n",
              "</style>\n",
              "<table border=\"1\" class=\"dataframe\">\n",
              "  <thead>\n",
              "    <tr style=\"text-align: right;\">\n",
              "      <th></th>\n",
              "      <th>country</th>\n",
              "      <th>customer_id</th>\n",
              "      <th>monetary</th>\n",
              "      <th>units</th>\n",
              "      <th>date</th>\n",
              "      <th>id+</th>\n",
              "      <th>recency</th>\n",
              "      <th>days_since_purchase</th>\n",
              "    </tr>\n",
              "  </thead>\n",
              "  <tbody>\n",
              "    <tr>\n",
              "      <th>78</th>\n",
              "      <td>KR</td>\n",
              "      <td>706854</td>\n",
              "      <td>391.50</td>\n",
              "      <td>1</td>\n",
              "      <td>2019-12-09</td>\n",
              "      <td>KR706854</td>\n",
              "      <td>358 days</td>\n",
              "      <td>358</td>\n",
              "    </tr>\n",
              "    <tr>\n",
              "      <th>79</th>\n",
              "      <td>KR</td>\n",
              "      <td>706854</td>\n",
              "      <td>388.68</td>\n",
              "      <td>1</td>\n",
              "      <td>2019-12-30</td>\n",
              "      <td>KR706854</td>\n",
              "      <td>337 days</td>\n",
              "      <td>337</td>\n",
              "    </tr>\n",
              "    <tr>\n",
              "      <th>125098</th>\n",
              "      <td>KR</td>\n",
              "      <td>706854</td>\n",
              "      <td>369.66</td>\n",
              "      <td>1</td>\n",
              "      <td>2020-04-06</td>\n",
              "      <td>KR706854</td>\n",
              "      <td>239 days</td>\n",
              "      <td>239</td>\n",
              "    </tr>\n",
              "    <tr>\n",
              "      <th>125121</th>\n",
              "      <td>KR</td>\n",
              "      <td>706854</td>\n",
              "      <td>374.76</td>\n",
              "      <td>1</td>\n",
              "      <td>2020-07-27</td>\n",
              "      <td>KR706854</td>\n",
              "      <td>127 days</td>\n",
              "      <td>127</td>\n",
              "    </tr>\n",
              "    <tr>\n",
              "      <th>125139</th>\n",
              "      <td>KR</td>\n",
              "      <td>706854</td>\n",
              "      <td>371.82</td>\n",
              "      <td>1</td>\n",
              "      <td>2020-11-09</td>\n",
              "      <td>KR706854</td>\n",
              "      <td>22 days</td>\n",
              "      <td>22</td>\n",
              "    </tr>\n",
              "  </tbody>\n",
              "</table>\n",
              "</div>"
            ],
            "text/plain": [
              "       country  customer_id  monetary  ...       id+  recency days_since_purchase\n",
              "78          KR       706854    391.50  ...  KR706854 358 days                 358\n",
              "79          KR       706854    388.68  ...  KR706854 337 days                 337\n",
              "125098      KR       706854    369.66  ...  KR706854 239 days                 239\n",
              "125121      KR       706854    374.76  ...  KR706854 127 days                 127\n",
              "125139      KR       706854    371.82  ...  KR706854  22 days                  22\n",
              "\n",
              "[5 rows x 8 columns]"
            ]
          },
          "metadata": {},
          "execution_count": 42
        }
      ]
    },
    {
      "cell_type": "code",
      "metadata": {
        "id": "T5PjvfA4NGut",
        "colab": {
          "base_uri": "https://localhost:8080/"
        },
        "outputId": "750ba4bf-7918-4b9a-d4fe-ff10f5130f94"
      },
      "source": [
        "# Recency will be the minimum of 'days_since_last_purchase' for each customer\n",
        "# Frequency will be the total number of orders in the period for each customer\n",
        "\n",
        "aggr = {\n",
        "    'days_since_purchase': lambda x:x.min(),                                        #lambda min of datediff\n",
        "    'date': lambda x: len([d for d in x if d >= NOW - timedelta(days=period)])      #lambda len(number of dates on date if date <365)\n",
        "}\n",
        "aggr"
      ],
      "execution_count": null,
      "outputs": [
        {
          "output_type": "execute_result",
          "data": {
            "text/plain": [
              "{'date': <function __main__.<lambda>>,\n",
              " 'days_since_purchase': <function __main__.<lambda>>}"
            ]
          },
          "metadata": {},
          "execution_count": 61
        }
      ]
    },
    {
      "cell_type": "code",
      "metadata": {
        "id": "TB9dO51bOM6N",
        "colab": {
          "base_uri": "https://localhost:8080/",
          "height": 424
        },
        "outputId": "bcdf00ac-bc07-4cb8-a063-72ecf2357cec"
      },
      "source": [
        "rfm = df3.groupby(['customer_id', 'id+', 'country']).agg(aggr).reset_index()\n",
        "rfm.rename(columns={'days_since_purchase': 'recency','date': 'frequency'},inplace=True)\n",
        "rfm"
      ],
      "execution_count": null,
      "outputs": [
        {
          "output_type": "execute_result",
          "data": {
            "text/html": [
              "<div>\n",
              "<style scoped>\n",
              "    .dataframe tbody tr th:only-of-type {\n",
              "        vertical-align: middle;\n",
              "    }\n",
              "\n",
              "    .dataframe tbody tr th {\n",
              "        vertical-align: top;\n",
              "    }\n",
              "\n",
              "    .dataframe thead th {\n",
              "        text-align: right;\n",
              "    }\n",
              "</style>\n",
              "<table border=\"1\" class=\"dataframe\">\n",
              "  <thead>\n",
              "    <tr style=\"text-align: right;\">\n",
              "      <th></th>\n",
              "      <th>customer_id</th>\n",
              "      <th>id+</th>\n",
              "      <th>country</th>\n",
              "      <th>recency</th>\n",
              "      <th>frequency</th>\n",
              "    </tr>\n",
              "  </thead>\n",
              "  <tbody>\n",
              "    <tr>\n",
              "      <th>0</th>\n",
              "      <td>600018</td>\n",
              "      <td>CN600018</td>\n",
              "      <td>CN</td>\n",
              "      <td>29</td>\n",
              "      <td>7</td>\n",
              "    </tr>\n",
              "    <tr>\n",
              "      <th>1</th>\n",
              "      <td>600060</td>\n",
              "      <td>CN600060</td>\n",
              "      <td>CN</td>\n",
              "      <td>155</td>\n",
              "      <td>1</td>\n",
              "    </tr>\n",
              "    <tr>\n",
              "      <th>2</th>\n",
              "      <td>600462</td>\n",
              "      <td>CN600462</td>\n",
              "      <td>CN</td>\n",
              "      <td>211</td>\n",
              "      <td>2</td>\n",
              "    </tr>\n",
              "    <tr>\n",
              "      <th>3</th>\n",
              "      <td>600888</td>\n",
              "      <td>CN600888</td>\n",
              "      <td>CN</td>\n",
              "      <td>8</td>\n",
              "      <td>3</td>\n",
              "    </tr>\n",
              "    <tr>\n",
              "      <th>4</th>\n",
              "      <td>601014</td>\n",
              "      <td>CN601014</td>\n",
              "      <td>CN</td>\n",
              "      <td>225</td>\n",
              "      <td>1</td>\n",
              "    </tr>\n",
              "    <tr>\n",
              "      <th>...</th>\n",
              "      <td>...</td>\n",
              "      <td>...</td>\n",
              "      <td>...</td>\n",
              "      <td>...</td>\n",
              "      <td>...</td>\n",
              "    </tr>\n",
              "    <tr>\n",
              "      <th>16564</th>\n",
              "      <td>241575552</td>\n",
              "      <td>IQ241575552</td>\n",
              "      <td>IQ</td>\n",
              "      <td>15</td>\n",
              "      <td>1</td>\n",
              "    </tr>\n",
              "    <tr>\n",
              "      <th>16565</th>\n",
              "      <td>241794972</td>\n",
              "      <td>IQ241794972</td>\n",
              "      <td>IQ</td>\n",
              "      <td>351</td>\n",
              "      <td>1</td>\n",
              "    </tr>\n",
              "    <tr>\n",
              "      <th>16566</th>\n",
              "      <td>241888554</td>\n",
              "      <td>IQ241888554</td>\n",
              "      <td>IQ</td>\n",
              "      <td>43</td>\n",
              "      <td>1</td>\n",
              "    </tr>\n",
              "    <tr>\n",
              "      <th>16567</th>\n",
              "      <td>241900254</td>\n",
              "      <td>IQ241900254</td>\n",
              "      <td>IQ</td>\n",
              "      <td>8</td>\n",
              "      <td>62</td>\n",
              "    </tr>\n",
              "    <tr>\n",
              "      <th>16568</th>\n",
              "      <td>241930824</td>\n",
              "      <td>IQ241930824</td>\n",
              "      <td>IQ</td>\n",
              "      <td>36</td>\n",
              "      <td>2</td>\n",
              "    </tr>\n",
              "  </tbody>\n",
              "</table>\n",
              "<p>16569 rows × 5 columns</p>\n",
              "</div>"
            ],
            "text/plain": [
              "       customer_id          id+ country  recency  frequency\n",
              "0           600018     CN600018      CN       29          7\n",
              "1           600060     CN600060      CN      155          1\n",
              "2           600462     CN600462      CN      211          2\n",
              "3           600888     CN600888      CN        8          3\n",
              "4           601014     CN601014      CN      225          1\n",
              "...            ...          ...     ...      ...        ...\n",
              "16564    241575552  IQ241575552      IQ       15          1\n",
              "16565    241794972  IQ241794972      IQ      351          1\n",
              "16566    241888554  IQ241888554      IQ       43          1\n",
              "16567    241900254  IQ241900254      IQ        8         62\n",
              "16568    241930824  IQ241930824      IQ       36          2\n",
              "\n",
              "[16569 rows x 5 columns]"
            ]
          },
          "metadata": {},
          "execution_count": 60
        }
      ]
    },
    {
      "cell_type": "code",
      "metadata": {
        "colab": {
          "base_uri": "https://localhost:8080/",
          "height": 394
        },
        "id": "ApNsRZOy9GeD",
        "outputId": "720486a3-1b53-4672-df86-050d33113051"
      },
      "source": [
        "rfm.loc[rfm['customer_id']==3790218]"
      ],
      "execution_count": null,
      "outputs": [
        {
          "output_type": "execute_result",
          "data": {
            "text/html": [
              "<div>\n",
              "<style scoped>\n",
              "    .dataframe tbody tr th:only-of-type {\n",
              "        vertical-align: middle;\n",
              "    }\n",
              "\n",
              "    .dataframe tbody tr th {\n",
              "        vertical-align: top;\n",
              "    }\n",
              "\n",
              "    .dataframe thead th {\n",
              "        text-align: right;\n",
              "    }\n",
              "</style>\n",
              "<table border=\"1\" class=\"dataframe\">\n",
              "  <thead>\n",
              "    <tr style=\"text-align: right;\">\n",
              "      <th></th>\n",
              "      <th>customer_id</th>\n",
              "      <th>id+</th>\n",
              "      <th>country</th>\n",
              "      <th>recency</th>\n",
              "      <th>frequency</th>\n",
              "    </tr>\n",
              "  </thead>\n",
              "  <tbody>\n",
              "    <tr>\n",
              "      <th>11057</th>\n",
              "      <td>3790218</td>\n",
              "      <td>AF3790218</td>\n",
              "      <td>AF</td>\n",
              "      <td>309</td>\n",
              "      <td>1</td>\n",
              "    </tr>\n",
              "    <tr>\n",
              "      <th>11058</th>\n",
              "      <td>3790218</td>\n",
              "      <td>BD3790218</td>\n",
              "      <td>BD</td>\n",
              "      <td>176</td>\n",
              "      <td>4</td>\n",
              "    </tr>\n",
              "    <tr>\n",
              "      <th>11059</th>\n",
              "      <td>3790218</td>\n",
              "      <td>CN3790218</td>\n",
              "      <td>CN</td>\n",
              "      <td>1</td>\n",
              "      <td>60</td>\n",
              "    </tr>\n",
              "    <tr>\n",
              "      <th>11060</th>\n",
              "      <td>3790218</td>\n",
              "      <td>ID3790218</td>\n",
              "      <td>ID</td>\n",
              "      <td>260</td>\n",
              "      <td>9</td>\n",
              "    </tr>\n",
              "    <tr>\n",
              "      <th>11061</th>\n",
              "      <td>3790218</td>\n",
              "      <td>IQ3790218</td>\n",
              "      <td>IQ</td>\n",
              "      <td>176</td>\n",
              "      <td>1</td>\n",
              "    </tr>\n",
              "    <tr>\n",
              "      <th>11062</th>\n",
              "      <td>3790218</td>\n",
              "      <td>MM3790218</td>\n",
              "      <td>MM</td>\n",
              "      <td>183</td>\n",
              "      <td>3</td>\n",
              "    </tr>\n",
              "    <tr>\n",
              "      <th>11063</th>\n",
              "      <td>3790218</td>\n",
              "      <td>PH3790218</td>\n",
              "      <td>PH</td>\n",
              "      <td>127</td>\n",
              "      <td>3</td>\n",
              "    </tr>\n",
              "    <tr>\n",
              "      <th>11064</th>\n",
              "      <td>3790218</td>\n",
              "      <td>PK3790218</td>\n",
              "      <td>PK</td>\n",
              "      <td>43</td>\n",
              "      <td>5</td>\n",
              "    </tr>\n",
              "    <tr>\n",
              "      <th>11065</th>\n",
              "      <td>3790218</td>\n",
              "      <td>TH3790218</td>\n",
              "      <td>TH</td>\n",
              "      <td>295</td>\n",
              "      <td>1</td>\n",
              "    </tr>\n",
              "    <tr>\n",
              "      <th>11066</th>\n",
              "      <td>3790218</td>\n",
              "      <td>TR3790218</td>\n",
              "      <td>TR</td>\n",
              "      <td>29</td>\n",
              "      <td>10</td>\n",
              "    </tr>\n",
              "    <tr>\n",
              "      <th>11067</th>\n",
              "      <td>3790218</td>\n",
              "      <td>VN3790218</td>\n",
              "      <td>VN</td>\n",
              "      <td>302</td>\n",
              "      <td>1</td>\n",
              "    </tr>\n",
              "  </tbody>\n",
              "</table>\n",
              "</div>"
            ],
            "text/plain": [
              "       customer_id        id+ country  recency  frequency\n",
              "11057      3790218  AF3790218      AF      309          1\n",
              "11058      3790218  BD3790218      BD      176          4\n",
              "11059      3790218  CN3790218      CN        1         60\n",
              "11060      3790218  ID3790218      ID      260          9\n",
              "11061      3790218  IQ3790218      IQ      176          1\n",
              "11062      3790218  MM3790218      MM      183          3\n",
              "11063      3790218  PH3790218      PH      127          3\n",
              "11064      3790218  PK3790218      PK       43          5\n",
              "11065      3790218  TH3790218      TH      295          1\n",
              "11066      3790218  TR3790218      TR       29         10\n",
              "11067      3790218  VN3790218      VN      302          1"
            ]
          },
          "metadata": {},
          "execution_count": 67
        }
      ]
    },
    {
      "cell_type": "code",
      "metadata": {
        "colab": {
          "base_uri": "https://localhost:8080/"
        },
        "id": "WO_AiwSj9Roy",
        "outputId": "8d8728b0-cf0a-42e3-d7a3-07628411803d"
      },
      "source": [
        "df3.loc[df3['date'] >= NOW - timedelta(days=period)].groupby('id+')['monetary'].sum()"
      ],
      "execution_count": null,
      "outputs": [
        {
          "output_type": "execute_result",
          "data": {
            "text/plain": [
              "id+\n",
              "AF186035892       277.86\n",
              "AF1915092      250651.86\n",
              "AF1915920        2238.60\n",
              "AF1916280         612.78\n",
              "AF1917144       29793.18\n",
              "                 ...    \n",
              "VN991620         1093.86\n",
              "VN993528         1018.86\n",
              "VN993996         4037.28\n",
              "VN995010          544.32\n",
              "VN998130          384.84\n",
              "Name: monetary, Length: 16569, dtype: float64"
            ]
          },
          "metadata": {},
          "execution_count": 73
        }
      ]
    },
    {
      "cell_type": "code",
      "metadata": {
        "id": "PGZek91wBexK"
      },
      "source": [
        " rfm['monetary'] = rfm['id+'].apply(lambda x: df3.loc[ (df3['id+'] == x) & (df3['date'] >= NOW - timedelta(days=period))]\\\n",
        "                  .groupby(['customer_id', 'country']).sum().iloc[0,0])"
      ],
      "execution_count": null,
      "outputs": []
    },
    {
      "cell_type": "code",
      "metadata": {
        "colab": {
          "base_uri": "https://localhost:8080/",
          "height": 280
        },
        "id": "KgAtuKUYF0Yu",
        "outputId": "85fabfbf-9f4a-4819-8c52-fa4587acc802"
      },
      "source": [
        "print(rfm.loc[rfm['monetary']==rfm['monetary'].max()])\n",
        "print(rfm[rfm['frequency']==rfm['frequency'].max()])\n",
        "rfm.head()"
      ],
      "execution_count": null,
      "outputs": [
        {
          "output_type": "stream",
          "name": "stdout",
          "text": [
            "     customer_id       id+ country  recency  frequency     monetary\n",
            "173       638544  CN638544      CN        1        217  21482332.56\n",
            "      customer_id        id+ country  recency  frequency    monetary\n",
            "8290      3249114  TR3249114      TR        1       1351  2731448.04\n"
          ]
        },
        {
          "output_type": "execute_result",
          "data": {
            "text/html": [
              "<div>\n",
              "<style scoped>\n",
              "    .dataframe tbody tr th:only-of-type {\n",
              "        vertical-align: middle;\n",
              "    }\n",
              "\n",
              "    .dataframe tbody tr th {\n",
              "        vertical-align: top;\n",
              "    }\n",
              "\n",
              "    .dataframe thead th {\n",
              "        text-align: right;\n",
              "    }\n",
              "</style>\n",
              "<table border=\"1\" class=\"dataframe\">\n",
              "  <thead>\n",
              "    <tr style=\"text-align: right;\">\n",
              "      <th></th>\n",
              "      <th>customer_id</th>\n",
              "      <th>id+</th>\n",
              "      <th>country</th>\n",
              "      <th>recency</th>\n",
              "      <th>frequency</th>\n",
              "      <th>monetary</th>\n",
              "    </tr>\n",
              "  </thead>\n",
              "  <tbody>\n",
              "    <tr>\n",
              "      <th>0</th>\n",
              "      <td>600018</td>\n",
              "      <td>CN600018</td>\n",
              "      <td>CN</td>\n",
              "      <td>29</td>\n",
              "      <td>7</td>\n",
              "      <td>21402.78</td>\n",
              "    </tr>\n",
              "    <tr>\n",
              "      <th>1</th>\n",
              "      <td>600060</td>\n",
              "      <td>CN600060</td>\n",
              "      <td>CN</td>\n",
              "      <td>155</td>\n",
              "      <td>1</td>\n",
              "      <td>1201.14</td>\n",
              "    </tr>\n",
              "    <tr>\n",
              "      <th>2</th>\n",
              "      <td>600462</td>\n",
              "      <td>CN600462</td>\n",
              "      <td>CN</td>\n",
              "      <td>211</td>\n",
              "      <td>2</td>\n",
              "      <td>2033.64</td>\n",
              "    </tr>\n",
              "    <tr>\n",
              "      <th>3</th>\n",
              "      <td>600888</td>\n",
              "      <td>CN600888</td>\n",
              "      <td>CN</td>\n",
              "      <td>8</td>\n",
              "      <td>3</td>\n",
              "      <td>2335.80</td>\n",
              "    </tr>\n",
              "    <tr>\n",
              "      <th>4</th>\n",
              "      <td>601014</td>\n",
              "      <td>CN601014</td>\n",
              "      <td>CN</td>\n",
              "      <td>225</td>\n",
              "      <td>1</td>\n",
              "      <td>230.52</td>\n",
              "    </tr>\n",
              "  </tbody>\n",
              "</table>\n",
              "</div>"
            ],
            "text/plain": [
              "   customer_id       id+ country  recency  frequency  monetary\n",
              "0       600018  CN600018      CN       29          7  21402.78\n",
              "1       600060  CN600060      CN      155          1   1201.14\n",
              "2       600462  CN600462      CN      211          2   2033.64\n",
              "3       600888  CN600888      CN        8          3   2335.80\n",
              "4       601014  CN601014      CN      225          1    230.52"
            ]
          },
          "metadata": {},
          "execution_count": 81
        }
      ]
    },
    {
      "cell_type": "code",
      "metadata": {
        "id": "Mes-dS5IYEvQ"
      },
      "source": [
        "quintiles = rfm[['recency', 'frequency', 'monetary']].quantile([.2, .4, .6, .8]).to_dict()"
      ],
      "execution_count": null,
      "outputs": []
    },
    {
      "cell_type": "code",
      "metadata": {
        "id": "PmKDlxGDYN9Z",
        "colab": {
          "base_uri": "https://localhost:8080/"
        },
        "outputId": "9f7dd3ce-8e4a-4b71-af1a-10abe5f133dc"
      },
      "source": [
        "quintiles"
      ],
      "execution_count": null,
      "outputs": [
        {
          "output_type": "execute_result",
          "data": {
            "text/plain": [
              "{'frequency': {0.2: 1.0, 0.4: 2.0, 0.6: 4.0, 0.8: 9.0},\n",
              " 'monetary': {0.2: 967.5,\n",
              "  0.4: 2212.2,\n",
              "  0.6: 4852.548000000001,\n",
              "  0.8: 13957.500000000005},\n",
              " 'recency': {0.2: 15.0, 0.4: 50.0, 0.6: 120.0, 0.8: 239.0}}"
            ]
          },
          "metadata": {},
          "execution_count": 83
        }
      ]
    },
    {
      "cell_type": "code",
      "metadata": {
        "id": "PHnxHDy5YO-J"
      },
      "source": [
        ""
      ],
      "execution_count": null,
      "outputs": []
    }
  ]
}